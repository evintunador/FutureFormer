# my virtual environments are rarely properly connected to jupyter so this fixes that. 
# you prolly won't need this cell but running it won't hurt anything either
import sys
import os
current_dir = os.getcwd()  # Get the current working directory
venv_dir = os.path.join(current_dir, 'venv') 
python_version = str(sys.version_info.major) + '.' + str(sys.version_info.minor)
site_packages_path = os.path.join(venv_dir, 'lib', 'python' + python_version, 'site-packages')
sys.path.append(site_packages_path) 





## pretrained model options:
# a 1m parameter model trained for 2000 iters with many layers, thin MLP hidden dimensions & few attention heads: 'templateGPT_1m_tall_and_skinny'
# a 1m parameter model trained for 2000 iters with layers, MLP hidden dimensions, & attention heads bw the other two: 'templateGPT_1m_5ft11_and_skinnyfat'
# a 1m parameter model trained for 2000 iters with few layers, thick MLP hidden dimensions & many attention heads: 'templateGPT_1m_short_and_thicc'
# a 2m parameter model trained for 4000 iters with CosineNorm: 'templateGPT_2m_CosineNorm'
# a 2m parameter model trained for 4000 iters with LayerNorm: 'templateGPT_2m_LayerNorm'
# a 2m parameter model trained for 4000 iters with RMSNorm: 'templateGPT_2m_RMSNorm'
# a 3m parameter model trained for 5000 iters with a gated MLP: 'templateGPT_3m_GatedMLP'
# a 3m parameter model trained for 5000 iters with an old-fashioned MLP: 'templateGPT_3m_GatedMLP'
# a 4m parameter model trained for 6000 iters with GeGLU activation: 'templateGPT_4m_GeGLU'
# a 4m parameter model trained for 6000 iters with SwiGLU activation: 'templateGPT_4m_SwiGLU'
name = 'templateGPT_4m_SwiGLU'

from tools import load_model
model, tokenizer, cfg = load_model(name)





from inference import generate


# take a look at the tokenizer
prompt = "Once upon a time, there was a boy named Tim. "
print(tokenizer.display(prompt))


output = generate(
    prompt, 
    model, 
    tokenizer,
    #max_gen_len = 100,
    temperature = 0.7,
    memory_saver_div = 8,
    top_p = 0.9,
    top_k = 32,
)
print(output)



