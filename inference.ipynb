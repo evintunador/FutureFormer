{
 "cells": [
  {
   "cell_type": "code",
   "execution_count": 1,
   "id": "5c8178ba-2ea0-4f4f-b9ca-c3435a83bd97",
   "metadata": {},
   "outputs": [],
   "source": [
    "# my virtual environments are rarely properly connected to jupyter so this fixes that. \n",
    "# you prolly won't need this cell but running it won't hurt anything either\n",
    "import sys\n",
    "import os\n",
    "current_dir = os.getcwd()  # Get the current working directory\n",
    "venv_dir = os.path.join(current_dir, 'venv') \n",
    "python_version = str(sys.version_info.major) + '.' + str(sys.version_info.minor)\n",
    "site_packages_path = os.path.join(venv_dir, 'lib', 'python' + python_version, 'site-packages')\n",
    "sys.path.append(site_packages_path) "
   ]
  },
  {
   "cell_type": "markdown",
   "id": "0918a651-5c6a-4a39-8b3e-a28259e4fd64",
   "metadata": {},
   "source": [
    "# Load a Pretrained Model"
   ]
  },
  {
   "cell_type": "code",
   "execution_count": 2,
   "id": "39c0ba50-83de-4ad7-b262-944e6d547ae9",
   "metadata": {},
   "outputs": [
    {
     "name": "stdout",
     "output_type": "stream",
     "text": [
      "110.752K parameters\n",
      "ModelConfig(dim=32, device='cpu', dropout_rate=0.1, weight_tying=True, tokenizer='bpe_v2', vocab_len=1024, num_layers=6, second_resid_norm=False, mlp_hidden_mult=4, mlp_bias=False, mlp_nonlinearity='SiLU', mlp_gated=True, num_q_heads=2, num_kv_heads=1, head_dim=16, theta=10000, max_seq_len=128, ca_num_q_heads=2, ca_num_kv_heads=1, ca_head_dim=16, scale_first_resid=True, norm_type='RMSNorm', norm_affine=True, norm_bias=True, eps=1e-06, pool_type='sum', pre_pool_norm=True, pool_output_linear=False, pool_bias=False, compress_freq='constant', compress_freq_n=1, fs_mult=4, fs_periods=3, fs_loss_lambda=1.0, max_batch_size=1)\n",
      "Model(\n",
      "  (token_embedder): Embedding(1027, 32)\n",
      "  (body_layers): ModuleList(\n",
      "    (0-2): 3 x Layer(\n",
      "      (pre_self_attn_norm): Norm()\n",
      "      (self_attn): MQA(\n",
      "        (Wq): Linear(in_features=32, out_features=32, bias=False)\n",
      "        (Wk): Linear(in_features=32, out_features=16, bias=False)\n",
      "        (Wv): Linear(in_features=32, out_features=16, bias=False)\n",
      "        (Wo): Linear(in_features=32, out_features=32, bias=False)\n",
      "      )\n",
      "      (pre_mlp_norm): Norm()\n",
      "      (mlp): MLP(\n",
      "        (Wup): Linear(in_features=32, out_features=85, bias=False)\n",
      "        (Wgate): Linear(in_features=32, out_features=85, bias=False)\n",
      "        (Wdown): Linear(in_features=85, out_features=32, bias=False)\n",
      "        (nonlinearity): SiLU()\n",
      "      )\n",
      "    )\n",
      "  )\n",
      "  (first_fs_layer): Layer(\n",
      "    (pre_self_attn_norm): Norm()\n",
      "    (self_attn): MQA(\n",
      "      (Wq): Linear(in_features=32, out_features=32, bias=False)\n",
      "      (Wk): Linear(in_features=32, out_features=16, bias=False)\n",
      "      (Wv): Linear(in_features=32, out_features=16, bias=False)\n",
      "      (Wo): Linear(in_features=32, out_features=32, bias=False)\n",
      "    )\n",
      "    (pre_future_sight_norm_x): Norm()\n",
      "    (pre_future_sight_norm_y): Norm()\n",
      "    (future_sight): futureSightMQA(\n",
      "      (Wq): Linear(in_features=32, out_features=32, bias=False)\n",
      "      (Wk): Linear(in_features=32, out_features=16, bias=False)\n",
      "      (Wv): Linear(in_features=32, out_features=16, bias=False)\n",
      "      (Wo): Linear(in_features=32, out_features=32, bias=False)\n",
      "    )\n",
      "    (pre_mlp_norm): Norm()\n",
      "    (mlp): MLP(\n",
      "      (Wup): Linear(in_features=32, out_features=85, bias=False)\n",
      "      (Wgate): Linear(in_features=32, out_features=85, bias=False)\n",
      "      (Wdown): Linear(in_features=85, out_features=32, bias=False)\n",
      "      (nonlinearity): SiLU()\n",
      "    )\n",
      "  )\n",
      "  (fs_layers): ModuleList(\n",
      "    (0-1): 2 x Layer(\n",
      "      (pre_self_attn_norm): Norm()\n",
      "      (self_attn): MQA(\n",
      "        (Wq): Linear(in_features=32, out_features=32, bias=False)\n",
      "        (Wk): Linear(in_features=32, out_features=16, bias=False)\n",
      "        (Wv): Linear(in_features=32, out_features=16, bias=False)\n",
      "        (Wo): Linear(in_features=32, out_features=32, bias=False)\n",
      "      )\n",
      "      (pre_future_sight_norm_x): Norm()\n",
      "      (pre_future_sight_norm_y): Norm()\n",
      "      (future_sight): futureSightMQA(\n",
      "        (Wq): Linear(in_features=32, out_features=32, bias=False)\n",
      "        (Wk): Linear(in_features=32, out_features=16, bias=False)\n",
      "        (Wv): Linear(in_features=32, out_features=16, bias=False)\n",
      "        (Wo): Linear(in_features=32, out_features=32, bias=False)\n",
      "      )\n",
      "      (pre_mlp_norm): Norm()\n",
      "      (mlp): MLP(\n",
      "        (Wup): Linear(in_features=32, out_features=85, bias=False)\n",
      "        (Wgate): Linear(in_features=32, out_features=85, bias=False)\n",
      "        (Wdown): Linear(in_features=85, out_features=32, bias=False)\n",
      "        (nonlinearity): SiLU()\n",
      "      )\n",
      "    )\n",
      "  )\n",
      "  (pre_pool_norm): Norm()\n",
      "  (pooler): PoolingHub(\n",
      "    (pooler): SumPooling()\n",
      "  )\n",
      "  (output_projection): Sequential(\n",
      "    (0): Norm()\n",
      "    (1): Linear(in_features=32, out_features=1027, bias=False)\n",
      "  )\n",
      "  (fs_criterion): BCEWithLogitsLoss()\n",
      "  (ntp_criterion): CrossEntropyLoss()\n",
      ")\n"
     ]
    }
   ],
   "source": [
    "## pretrained model options:\n",
    "# a 0.1m parameter model that has not been trained meant for testing: 'untrained_test_0.1m'\n",
    "name = 'untrained_test_0.1m'\n",
    "\n",
    "from tools import load_model\n",
    "model, tokenizer, cfg = load_model(name)"
   ]
  },
  {
   "cell_type": "markdown",
   "id": "8c971fce-8b3e-4732-bd66-d5d2028025d6",
   "metadata": {},
   "source": [
    "# Inference"
   ]
  },
  {
   "cell_type": "code",
   "execution_count": 3,
   "id": "a366b1fc-b620-45a0-8b42-71bdca18906d",
   "metadata": {},
   "outputs": [],
   "source": [
    "from inference import generate"
   ]
  },
  {
   "cell_type": "code",
   "execution_count": 4,
   "id": "5c202ea0-e64d-4367-a4a6-102756fe63b8",
   "metadata": {},
   "outputs": [
    {
     "name": "stdout",
     "output_type": "stream",
     "text": [
      "Once| upon| a| time|,| th|er|e| was| a| boy| named| Tim|.| \n"
     ]
    }
   ],
   "source": [
    "# take a look at the tokenizer\n",
    "prompt = \"Once upon a time, there was a boy named Tim. \"\n",
    "print(tokenizer.display(prompt))"
   ]
  },
  {
   "cell_type": "code",
   "execution_count": 5,
   "id": "c5b13a76-50f8-48b6-b7cf-9097d307c6e6",
   "metadata": {},
   "outputs": [
    {
     "name": "stdout",
     "output_type": "stream",
     "text": [
      "memory_saver_div is being ignored under current implementation. kv caching will not occur\n",
      "\n",
      "Once upon a time, there was a boy named Tim.  a tortn th the waser, thek his withed as.\n",
      "e h day wasle.\n",
      " th th th,d toy. the an it and.eret. an tote,. a,,er was a h.tddtke aerkeee,. hoy to. his a dayr aeer todtd day hn the, aeeer.. ae h..t tod an\n"
     ]
    }
   ],
   "source": [
    "output = generate(\n",
    "    prompt, \n",
    "    model, \n",
    "    tokenizer,\n",
    "    #max_gen_len = 100,\n",
    "    temperature = 0.7,\n",
    "    memory_saver_div = 8,\n",
    "    top_p = 0.9,\n",
    "    top_k = 32,\n",
    ")\n",
    "print(output)"
   ]
  },
  {
   "cell_type": "code",
   "execution_count": null,
   "id": "114de8bf-ab76-460d-8c37-ebe368b47e90",
   "metadata": {},
   "outputs": [],
   "source": []
  }
 ],
 "metadata": {
  "kernelspec": {
   "display_name": "Python 3 (ipykernel)",
   "language": "python",
   "name": "python3"
  },
  "language_info": {
   "codemirror_mode": {
    "name": "ipython",
    "version": 3
   },
   "file_extension": ".py",
   "mimetype": "text/x-python",
   "name": "python",
   "nbconvert_exporter": "python",
   "pygments_lexer": "ipython3",
   "version": "3.11.5"
  }
 },
 "nbformat": 4,
 "nbformat_minor": 5
}
