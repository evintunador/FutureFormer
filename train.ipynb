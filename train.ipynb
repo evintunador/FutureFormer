{
 "cells": [
  {
   "cell_type": "markdown",
   "id": "cb200416-d927-4302-b6b2-a0bfe159c321",
   "metadata": {},
   "source": [
    "# Setup"
   ]
  },
  {
   "cell_type": "code",
   "execution_count": 1,
   "id": "1f1ae964-36e4-4a3a-8109-306ce7cac387",
   "metadata": {},
   "outputs": [],
   "source": [
    "# my virtual environments are rarely properly connected to jupyter so this fixes that. \n",
    "# you prolly won't need this cell but running it won't hurt anything either\n",
    "import sys\n",
    "import os\n",
    "current_dir = os.getcwd()  # Get the current working directory\n",
    "venv_dir = os.path.join(current_dir, 'venv') \n",
    "python_version = str(sys.version_info.major) + '.' + str(sys.version_info.minor)\n",
    "site_packages_path = os.path.join(venv_dir, 'lib', 'python' + python_version, 'site-packages')\n",
    "sys.path.append(site_packages_path) "
   ]
  },
  {
   "cell_type": "markdown",
   "id": "426337be-2a22-41cb-8e46-494ed823c037",
   "metadata": {},
   "source": [
    "# Instantiate a brand new model"
   ]
  },
  {
   "cell_type": "code",
   "execution_count": 2,
   "id": "209f309f-df73-4183-9d1c-a4fb834e825e",
   "metadata": {},
   "outputs": [
    {
     "name": "stdout",
     "output_type": "stream",
     "text": [
      "ModelConfig(dim=96, device='cpu', dropout_rate=0.1, weight_tying=True, tokenizer='bpe_v2', vocab_len=1024, num_layers=6, second_resid_norm=False, mlp_hidden_mult=4, mlp_bias=False, mlp_nonlinearity='SiLU', mlp_gated=True, num_q_heads=2, num_kv_heads=1, head_dim=48, theta=10000, max_seq_len=512, ca_num_q_heads=2, ca_num_kv_heads=1, ca_head_dim=48, scale_first_resid=True, norm_type='RMSNorm', norm_affine=True, norm_bias=True, eps=1e-06, pool_type='sum', pre_pool_norm=True, pool_output_linear=False, pool_bias=False, compress_freq='constant', compress_freq_n=1, fs_mult=3, fs_periods=3, fs_loss_lambda=1.0, max_batch_size=1) \n",
      "\n",
      " TrainConfig(weight_decay=0.05, batch_size=32, max_iters=2000, eval_interval=20, eval_samples=1, checkpoint_interval=None, lr_init=1e-06, lr_max=0.1, lr_min=0.001, warmup_iters=20, final_flat_iters=200, anneal_type='cos', num_restarts=3, T_mult=2)\n",
      "\n",
      "793.632K parameters\n",
      "\n",
      "Model(\n",
      "  (token_embedder): Embedding(1027, 96)\n",
      "  (body_layers): ModuleList(\n",
      "    (0-2): 3 x Layer(\n",
      "      (pre_self_attn_norm): Norm()\n",
      "      (self_attn): MQA(\n",
      "        (Wq): Linear(in_features=96, out_features=96, bias=False)\n",
      "        (Wk): Linear(in_features=96, out_features=48, bias=False)\n",
      "        (Wv): Linear(in_features=96, out_features=48, bias=False)\n",
      "        (Wo): Linear(in_features=96, out_features=96, bias=False)\n",
      "      )\n",
      "      (pre_mlp_norm): Norm()\n",
      "      (mlp): MLP(\n",
      "        (Wup): Linear(in_features=96, out_features=256, bias=False)\n",
      "        (Wgate): Linear(in_features=96, out_features=256, bias=False)\n",
      "        (Wdown): Linear(in_features=256, out_features=96, bias=False)\n",
      "        (nonlinearity): SiLU()\n",
      "      )\n",
      "    )\n",
      "  )\n",
      "  (first_fs_layer): Layer(\n",
      "    (pre_self_attn_norm): Norm()\n",
      "    (self_attn): MQA(\n",
      "      (Wq): Linear(in_features=96, out_features=96, bias=False)\n",
      "      (Wk): Linear(in_features=96, out_features=48, bias=False)\n",
      "      (Wv): Linear(in_features=96, out_features=48, bias=False)\n",
      "      (Wo): Linear(in_features=96, out_features=96, bias=False)\n",
      "    )\n",
      "    (pre_future_sight_norm_x): Norm()\n",
      "    (pre_future_sight_norm_y): Norm()\n",
      "    (future_sight): futureSightMQA(\n",
      "      (Wq): Linear(in_features=96, out_features=96, bias=False)\n",
      "      (Wk): Linear(in_features=96, out_features=48, bias=False)\n",
      "      (Wv): Linear(in_features=96, out_features=48, bias=False)\n",
      "      (Wo): Linear(in_features=96, out_features=96, bias=False)\n",
      "    )\n",
      "    (pre_mlp_norm): Norm()\n",
      "    (mlp): MLP(\n",
      "      (Wup): Linear(in_features=96, out_features=256, bias=False)\n",
      "      (Wgate): Linear(in_features=96, out_features=256, bias=False)\n",
      "      (Wdown): Linear(in_features=256, out_features=96, bias=False)\n",
      "      (nonlinearity): SiLU()\n",
      "    )\n",
      "  )\n",
      "  (fs_layers): ModuleList(\n",
      "    (0-1): 2 x Layer(\n",
      "      (pre_self_attn_norm): Norm()\n",
      "      (self_attn): MQA(\n",
      "        (Wq): Linear(in_features=96, out_features=96, bias=False)\n",
      "        (Wk): Linear(in_features=96, out_features=48, bias=False)\n",
      "        (Wv): Linear(in_features=96, out_features=48, bias=False)\n",
      "        (Wo): Linear(in_features=96, out_features=96, bias=False)\n",
      "      )\n",
      "      (pre_future_sight_norm_x): Norm()\n",
      "      (pre_future_sight_norm_y): Norm()\n",
      "      (future_sight): futureSightMQA(\n",
      "        (Wq): Linear(in_features=96, out_features=96, bias=False)\n",
      "        (Wk): Linear(in_features=96, out_features=48, bias=False)\n",
      "        (Wv): Linear(in_features=96, out_features=48, bias=False)\n",
      "        (Wo): Linear(in_features=96, out_features=96, bias=False)\n",
      "      )\n",
      "      (pre_mlp_norm): Norm()\n",
      "      (mlp): MLP(\n",
      "        (Wup): Linear(in_features=96, out_features=256, bias=False)\n",
      "        (Wgate): Linear(in_features=96, out_features=256, bias=False)\n",
      "        (Wdown): Linear(in_features=256, out_features=96, bias=False)\n",
      "        (nonlinearity): SiLU()\n",
      "      )\n",
      "    )\n",
      "  )\n",
      "  (pre_pool_norm): Norm()\n",
      "  (pooler): PoolingHub(\n",
      "    (pooler): SumPooling()\n",
      "  )\n",
      "  (output_projection): Sequential(\n",
      "    (0): Norm()\n",
      "    (1): Linear(in_features=96, out_features=1027, bias=False)\n",
      "  )\n",
      "  (fs_criterion): BCEWithLogitsLoss()\n",
      "  (ntp_criterion): CrossEntropyLoss()\n",
      ")\n"
     ]
    }
   ],
   "source": [
    "# config file\n",
    "from config import ModelConfig, TrainConfig\n",
    "cfg = ModelConfig()\n",
    "tcfg = TrainConfig()\n",
    "print(cfg, '\\n\\n', tcfg)\n",
    "\n",
    "# import the tokenizer specified by cfg\n",
    "from tools import import_from_nested_path\n",
    "imported_objects = import_from_nested_path(['tokenizers', cfg.tokenizer], 'tokenizer', ['get_tokenizer'])\n",
    "get_tokenizer = imported_objects.get('get_tokenizer')\n",
    "tokenizer = get_tokenizer(size = cfg.vocab_len)\n",
    "\n",
    "# model modules\n",
    "from modules.model import Model\n",
    "model = Model(cfg).to(cfg.device)\n",
    "\n",
    "# print the number of parameters in the model\n",
    "print(f'\\n{sum(p.numel() for p in model.parameters())/1e3}K parameters\\n')\n",
    "print(model)"
   ]
  },
  {
   "cell_type": "markdown",
   "id": "3287e188-9a0d-47da-9d61-8885b29ba25d",
   "metadata": {},
   "source": [
    "# Training"
   ]
  },
  {
   "cell_type": "code",
   "execution_count": 3,
   "id": "e6926710-6418-47c1-ba9f-ac9d63c092d0",
   "metadata": {},
   "outputs": [],
   "source": [
    "import torch\n",
    "from tools import get_data_loader\n",
    "from train import scheduler_lambda, train\n",
    "\n",
    "optimizer = torch.optim.AdamW(model.parameters(), lr = tcfg.lr_max, weight_decay = tcfg.weight_decay)\n",
    "scheduler = torch.optim.lr_scheduler.LambdaLR(optimizer, lr_lambda=scheduler_lambda)\n",
    "\n",
    "train_data_loader = get_data_loader(batch_size=tcfg.batch_size, split='train')\n",
    "test_data_loader = get_data_loader(batch_size=tcfg.batch_size, split='validation')"
   ]
  },
  {
   "cell_type": "code",
   "execution_count": 4,
   "id": "a85b7902-ee37-4963-b263-f28e72ecaf32",
   "metadata": {},
   "outputs": [],
   "source": [
    "if False: # set to true if you'd like to see a graph of the learning rate schedule\n",
    "    import matplotlib.pyplot as plt\n",
    "    \n",
    "    # Generate learning rate values\n",
    "    lrs = [scheduler_lambda(i) for i in range(tcfg.max_iters)]\n",
    "    \n",
    "    # Plot the learning rates\n",
    "    plt.figure(figsize=(10, 5))\n",
    "    plt.plot(lrs, label='Learning Rate')\n",
    "    plt.title('Learning Rate Schedule')\n",
    "    plt.xlabel('Iteration')\n",
    "    plt.ylabel('Learning Rate')\n",
    "    plt.grid(True)\n",
    "    plt.legend()\n",
    "    plt.show()"
   ]
  },
  {
   "cell_type": "code",
   "execution_count": 5,
   "id": "32c471d7-d40a-48b9-ac3f-82371e85c24c",
   "metadata": {},
   "outputs": [
    {
     "name": "stderr",
     "output_type": "stream",
     "text": [
      "  0%|                                        | 1/2000 [00:08<4:31:01,  8.14s/it]"
     ]
    },
    {
     "name": "stdout",
     "output_type": "stream",
     "text": [
      "step 0000: lr 0.000000, train loss 9.3430, val loss 9.3450, ppl 11442, time elapsed: 4.10 seconds\n"
     ]
    },
    {
     "name": "stderr",
     "output_type": "stream",
     "text": [
      "  1%|▍                                      | 21/2000 [01:32<2:54:44,  5.30s/it]"
     ]
    },
    {
     "name": "stdout",
     "output_type": "stream",
     "text": [
      "step 0020: lr 0.010000, train loss 4.8031, val loss 4.8190, ppl 124, time elapsed: 88.75 seconds\n"
     ]
    },
    {
     "name": "stderr",
     "output_type": "stream",
     "text": [
      "  2%|▊                                      | 41/2000 [02:57<2:46:55,  5.11s/it]"
     ]
    },
    {
     "name": "stdout",
     "output_type": "stream",
     "text": [
      "step 0040: lr 0.009322, train loss 3.6224, val loss 3.7722, ppl 43, time elapsed: 173.66 seconds\n"
     ]
    },
    {
     "name": "stderr",
     "output_type": "stream",
     "text": [
      "  3%|█▏                                     | 61/2000 [04:21<2:40:52,  4.98s/it]"
     ]
    },
    {
     "name": "stdout",
     "output_type": "stream",
     "text": [
      "step 0060: lr 0.007474, train loss 3.2260, val loss 3.2773, ppl 27, time elapsed: 258.05 seconds\n"
     ]
    },
    {
     "name": "stderr",
     "output_type": "stream",
     "text": [
      "  4%|█▌                                     | 81/2000 [05:39<2:36:27,  4.89s/it]"
     ]
    },
    {
     "name": "stdout",
     "output_type": "stream",
     "text": [
      "step 0080: lr 0.004963, train loss 2.9866, val loss 2.8095, ppl 17, time elapsed: 335.21 seconds\n"
     ]
    },
    {
     "name": "stderr",
     "output_type": "stream",
     "text": [
      "  5%|█▉                                    | 101/2000 [06:57<2:33:51,  4.86s/it]"
     ]
    },
    {
     "name": "stdout",
     "output_type": "stream",
     "text": [
      "step 0100: lr 0.002475, train loss 2.5593, val loss 2.8394, ppl 17, time elapsed: 413.26 seconds\n"
     ]
    },
    {
     "name": "stderr",
     "output_type": "stream",
     "text": [
      "  6%|██▎                                   | 121/2000 [08:15<2:32:46,  4.88s/it]"
     ]
    },
    {
     "name": "stdout",
     "output_type": "stream",
     "text": [
      "step 0120: lr 0.000692, train loss 2.6212, val loss 2.5340, ppl 13, time elapsed: 491.91 seconds\n"
     ]
    },
    {
     "name": "stderr",
     "output_type": "stream",
     "text": [
      "  7%|██▋                                   | 141/2000 [09:33<2:27:57,  4.78s/it]"
     ]
    },
    {
     "name": "stdout",
     "output_type": "stream",
     "text": [
      "step 0140: lr 0.009999, train loss 3.1247, val loss 2.9754, ppl 20, time elapsed: 570.26 seconds\n"
     ]
    },
    {
     "name": "stderr",
     "output_type": "stream",
     "text": [
      "  8%|███                                   | 161/2000 [10:51<2:28:13,  4.84s/it]"
     ]
    },
    {
     "name": "stdout",
     "output_type": "stream",
     "text": [
      "step 0160: lr 0.009804, train loss 2.4402, val loss 2.4897, ppl 12, time elapsed: 647.65 seconds\n"
     ]
    },
    {
     "name": "stderr",
     "output_type": "stream",
     "text": [
      "  9%|███▍                                  | 181/2000 [12:08<2:26:12,  4.82s/it]"
     ]
    },
    {
     "name": "stdout",
     "output_type": "stream",
     "text": [
      "step 0180: lr 0.009277, train loss 2.1326, val loss 2.2547, ppl 10, time elapsed: 724.96 seconds\n"
     ]
    },
    {
     "name": "stderr",
     "output_type": "stream",
     "text": [
      " 10%|███▊                                  | 201/2000 [13:26<2:24:05,  4.81s/it]"
     ]
    },
    {
     "name": "stdout",
     "output_type": "stream",
     "text": [
      "step 0200: lr 0.008456, train loss 1.9051, val loss 1.8700, ppl 6, time elapsed: 802.57 seconds\n"
     ]
    },
    {
     "name": "stderr",
     "output_type": "stream",
     "text": [
      " 11%|████▏                                 | 221/2000 [14:43<2:21:38,  4.78s/it]"
     ]
    },
    {
     "name": "stdout",
     "output_type": "stream",
     "text": [
      "step 0220: lr 0.007398, train loss 1.7095, val loss 1.6986, ppl 5, time elapsed: 879.63 seconds\n"
     ]
    },
    {
     "name": "stderr",
     "output_type": "stream",
     "text": [
      " 12%|████▌                                 | 241/2000 [16:00<2:18:47,  4.73s/it]"
     ]
    },
    {
     "name": "stdout",
     "output_type": "stream",
     "text": [
      "step 0240: lr 0.006176, train loss 1.4798, val loss 1.5842, ppl 5, time elapsed: 956.62 seconds\n"
     ]
    },
    {
     "name": "stderr",
     "output_type": "stream",
     "text": [
      " 13%|████▉                                 | 261/2000 [17:17<2:19:57,  4.83s/it]"
     ]
    },
    {
     "name": "stdout",
     "output_type": "stream",
     "text": [
      "step 0260: lr 0.004875, train loss 1.3047, val loss 1.3219, ppl 4, time elapsed: 1033.44 seconds\n"
     ]
    },
    {
     "name": "stderr",
     "output_type": "stream",
     "text": [
      " 14%|█████▎                                | 281/2000 [18:33<2:13:39,  4.66s/it]"
     ]
    },
    {
     "name": "stdout",
     "output_type": "stream",
     "text": [
      "step 0280: lr 0.003587, train loss 1.0489, val loss 1.1861, ppl 3, time elapsed: 1110.39 seconds\n"
     ]
    },
    {
     "name": "stderr",
     "output_type": "stream",
     "text": [
      " 15%|█████▋                                | 301/2000 [19:50<2:17:20,  4.85s/it]"
     ]
    },
    {
     "name": "stdout",
     "output_type": "stream",
     "text": [
      "step 0300: lr 0.002401, train loss 1.0632, val loss 1.0647, ppl 3, time elapsed: 1186.97 seconds\n"
     ]
    },
    {
     "name": "stderr",
     "output_type": "stream",
     "text": [
      " 16%|██████                                | 321/2000 [21:06<2:12:00,  4.72s/it]"
     ]
    },
    {
     "name": "stdout",
     "output_type": "stream",
     "text": [
      "step 0320: lr 0.001399, train loss 0.9354, val loss 0.9017, ppl 2, time elapsed: 1262.28 seconds\n"
     ]
    },
    {
     "name": "stderr",
     "output_type": "stream",
     "text": [
      " 17%|██████▍                               | 341/2000 [22:21<2:09:32,  4.69s/it]"
     ]
    },
    {
     "name": "stdout",
     "output_type": "stream",
     "text": [
      "step 0340: lr 0.000651, train loss 0.9473, val loss 0.9319, ppl 3, time elapsed: 1338.33 seconds\n"
     ]
    },
    {
     "name": "stderr",
     "output_type": "stream",
     "text": [
      " 18%|██████▊                               | 361/2000 [23:38<2:07:53,  4.68s/it]"
     ]
    },
    {
     "name": "stdout",
     "output_type": "stream",
     "text": [
      "step 0360: lr 0.000211, train loss 0.8486, val loss 0.8966, ppl 2, time elapsed: 1414.67 seconds\n"
     ]
    },
    {
     "name": "stderr",
     "output_type": "stream",
     "text": [
      " 19%|███████▏                              | 381/2000 [24:55<2:11:10,  4.86s/it]"
     ]
    },
    {
     "name": "stdout",
     "output_type": "stream",
     "text": [
      "step 0380: lr 0.009998, train loss 4.1487, val loss 4.1665, ppl 64, time elapsed: 1491.18 seconds\n"
     ]
    },
    {
     "name": "stderr",
     "output_type": "stream",
     "text": [
      " 20%|███████▌                              | 401/2000 [26:12<2:09:51,  4.87s/it]"
     ]
    },
    {
     "name": "stdout",
     "output_type": "stream",
     "text": [
      "step 0400: lr 0.009938, train loss 1.9401, val loss 1.9283, ppl 7, time elapsed: 1568.63 seconds\n"
     ]
    },
    {
     "name": "stderr",
     "output_type": "stream",
     "text": [
      " 21%|███████▉                              | 421/2000 [27:31<2:05:05,  4.75s/it]"
     ]
    },
    {
     "name": "stdout",
     "output_type": "stream",
     "text": [
      "step 0420: lr 0.009792, train loss 1.5053, val loss 1.3981, ppl 4, time elapsed: 1647.36 seconds\n"
     ]
    },
    {
     "name": "stderr",
     "output_type": "stream",
     "text": [
      " 22%|████████▍                             | 441/2000 [28:48<2:04:51,  4.81s/it]"
     ]
    },
    {
     "name": "stdout",
     "output_type": "stream",
     "text": [
      "step 0440: lr 0.009563, train loss 1.1355, val loss 1.1458, ppl 3, time elapsed: 1724.86 seconds\n"
     ]
    },
    {
     "name": "stderr",
     "output_type": "stream",
     "text": [
      " 23%|████████▊                             | 461/2000 [30:06<2:04:48,  4.87s/it]"
     ]
    },
    {
     "name": "stdout",
     "output_type": "stream",
     "text": [
      "step 0460: lr 0.009255, train loss 0.9687, val loss 0.9403, ppl 3, time elapsed: 1802.79 seconds\n"
     ]
    },
    {
     "name": "stderr",
     "output_type": "stream",
     "text": [
      " 24%|█████████▏                            | 481/2000 [31:24<2:02:45,  4.85s/it]"
     ]
    },
    {
     "name": "stdout",
     "output_type": "stream",
     "text": [
      "step 0480: lr 0.008873, train loss 0.8285, val loss 0.8325, ppl 2, time elapsed: 1880.43 seconds\n"
     ]
    },
    {
     "name": "stderr",
     "output_type": "stream",
     "text": [
      " 25%|█████████▌                            | 501/2000 [32:42<2:00:41,  4.83s/it]"
     ]
    },
    {
     "name": "stdout",
     "output_type": "stream",
     "text": [
      "step 0500: lr 0.008424, train loss 0.7229, val loss 0.6900, ppl 2, time elapsed: 1958.32 seconds\n"
     ]
    },
    {
     "name": "stderr",
     "output_type": "stream",
     "text": [
      " 26%|█████████▉                            | 521/2000 [33:59<1:55:09,  4.67s/it]"
     ]
    },
    {
     "name": "stdout",
     "output_type": "stream",
     "text": [
      "step 0520: lr 0.007917, train loss 0.5822, val loss 0.6183, ppl 2, time elapsed: 2035.90 seconds\n"
     ]
    },
    {
     "name": "stderr",
     "output_type": "stream",
     "text": [
      " 27%|██████████▎                           | 541/2000 [35:16<1:56:26,  4.79s/it]"
     ]
    },
    {
     "name": "stdout",
     "output_type": "stream",
     "text": [
      "step 0540: lr 0.007359, train loss 0.6319, val loss 0.5646, ppl 2, time elapsed: 2113.02 seconds\n"
     ]
    },
    {
     "name": "stderr",
     "output_type": "stream",
     "text": [
      " 28%|██████████▋                           | 561/2000 [36:35<1:57:49,  4.91s/it]"
     ]
    },
    {
     "name": "stdout",
     "output_type": "stream",
     "text": [
      "step 0560: lr 0.006761, train loss 0.5046, val loss 0.4828, ppl 2, time elapsed: 2191.52 seconds\n"
     ]
    },
    {
     "name": "stderr",
     "output_type": "stream",
     "text": [
      " 29%|███████████                           | 581/2000 [37:53<1:53:46,  4.81s/it]"
     ]
    },
    {
     "name": "stdout",
     "output_type": "stream",
     "text": [
      "step 0580: lr 0.006133, train loss 0.4281, val loss 0.4801, ppl 2, time elapsed: 2269.31 seconds\n"
     ]
    },
    {
     "name": "stderr",
     "output_type": "stream",
     "text": [
      " 30%|███████████▍                          | 601/2000 [39:11<1:53:05,  4.85s/it]"
     ]
    },
    {
     "name": "stdout",
     "output_type": "stream",
     "text": [
      "step 0600: lr 0.005486, train loss 0.4161, val loss 0.4284, ppl 2, time elapsed: 2347.51 seconds\n"
     ]
    },
    {
     "name": "stderr",
     "output_type": "stream",
     "text": [
      " 31%|███████████▊                          | 621/2000 [40:30<1:53:06,  4.92s/it]"
     ]
    },
    {
     "name": "stdout",
     "output_type": "stream",
     "text": [
      "step 0620: lr 0.004832, train loss 0.4245, val loss 0.3636, ppl 1, time elapsed: 2426.50 seconds\n"
     ]
    },
    {
     "name": "stderr",
     "output_type": "stream",
     "text": [
      " 32%|████████████▏                         | 641/2000 [41:48<1:48:58,  4.81s/it]"
     ]
    },
    {
     "name": "stdout",
     "output_type": "stream",
     "text": [
      "step 0640: lr 0.004181, train loss 0.3770, val loss 0.3531, ppl 1, time elapsed: 2504.50 seconds\n"
     ]
    },
    {
     "name": "stderr",
     "output_type": "stream",
     "text": [
      " 33%|████████████▌                         | 661/2000 [43:06<1:49:02,  4.89s/it]"
     ]
    },
    {
     "name": "stdout",
     "output_type": "stream",
     "text": [
      "step 0660: lr 0.003545, train loss 0.3579, val loss 0.3503, ppl 1, time elapsed: 2583.01 seconds\n"
     ]
    },
    {
     "name": "stderr",
     "output_type": "stream",
     "text": [
      " 34%|████████████▉                         | 681/2000 [44:41<2:41:22,  7.34s/it]"
     ]
    },
    {
     "name": "stdout",
     "output_type": "stream",
     "text": [
      "step 0680: lr 0.002936, train loss 0.3937, val loss 0.3791, ppl 1, time elapsed: 2675.34 seconds\n"
     ]
    },
    {
     "name": "stderr",
     "output_type": "stream",
     "text": [
      " 35%|█████████████▎                        | 701/2000 [46:09<1:47:38,  4.97s/it]"
     ]
    },
    {
     "name": "stdout",
     "output_type": "stream",
     "text": [
      "step 0700: lr 0.002364, train loss 0.3571, val loss 0.3519, ppl 1, time elapsed: 2765.92 seconds\n"
     ]
    },
    {
     "name": "stderr",
     "output_type": "stream",
     "text": [
      " 36%|█████████████▋                        | 721/2000 [47:31<1:47:25,  5.04s/it]"
     ]
    },
    {
     "name": "stdout",
     "output_type": "stream",
     "text": [
      "step 0720: lr 0.001839, train loss 0.3074, val loss 0.3379, ppl 1, time elapsed: 2847.37 seconds\n"
     ]
    },
    {
     "name": "stderr",
     "output_type": "stream",
     "text": [
      " 37%|██████████████                        | 741/2000 [48:53<1:46:18,  5.07s/it]"
     ]
    },
    {
     "name": "stdout",
     "output_type": "stream",
     "text": [
      "step 0740: lr 0.001369, train loss 0.3201, val loss 0.3235, ppl 1, time elapsed: 2929.12 seconds\n"
     ]
    },
    {
     "name": "stderr",
     "output_type": "stream",
     "text": [
      " 38%|██████████████▍                       | 761/2000 [50:15<1:45:44,  5.12s/it]"
     ]
    },
    {
     "name": "stdout",
     "output_type": "stream",
     "text": [
      "step 0760: lr 0.000965, train loss 0.3003, val loss 0.3009, ppl 1, time elapsed: 3011.32 seconds\n"
     ]
    },
    {
     "name": "stderr",
     "output_type": "stream",
     "text": [
      " 39%|██████████████▊                       | 781/2000 [51:36<1:41:52,  5.01s/it]"
     ]
    },
    {
     "name": "stdout",
     "output_type": "stream",
     "text": [
      "step 0780: lr 0.000632, train loss 0.3070, val loss 0.3262, ppl 1, time elapsed: 3092.72 seconds\n"
     ]
    },
    {
     "name": "stderr",
     "output_type": "stream",
     "text": [
      " 40%|███████████████▏                      | 801/2000 [52:56<1:38:56,  4.95s/it]"
     ]
    },
    {
     "name": "stdout",
     "output_type": "stream",
     "text": [
      "step 0800: lr 0.000376, train loss 0.3173, val loss 0.2870, ppl 1, time elapsed: 3172.69 seconds\n"
     ]
    },
    {
     "name": "stderr",
     "output_type": "stream",
     "text": [
      " 41%|███████████████▌                      | 821/2000 [54:17<1:36:36,  4.92s/it]"
     ]
    },
    {
     "name": "stdout",
     "output_type": "stream",
     "text": [
      "step 0820: lr 0.000202, train loss 0.2890, val loss 0.3060, ppl 1, time elapsed: 3253.26 seconds\n"
     ]
    },
    {
     "name": "stderr",
     "output_type": "stream",
     "text": [
      " 42%|███████████████▉                      | 841/2000 [55:38<1:35:48,  4.96s/it]"
     ]
    },
    {
     "name": "stdout",
     "output_type": "stream",
     "text": [
      "step 0840: lr 0.000112, train loss 0.2820, val loss 0.2885, ppl 1, time elapsed: 3334.34 seconds\n"
     ]
    },
    {
     "name": "stderr",
     "output_type": "stream",
     "text": [
      " 43%|████████████████▎                     | 861/2000 [56:58<1:32:11,  4.86s/it]"
     ]
    },
    {
     "name": "stdout",
     "output_type": "stream",
     "text": [
      "step 0860: lr 0.009998, train loss 2.6239, val loss 2.6740, ppl 14, time elapsed: 3414.66 seconds\n"
     ]
    },
    {
     "name": "stderr",
     "output_type": "stream",
     "text": [
      " 44%|████████████████▋                     | 881/2000 [58:27<1:43:03,  5.53s/it]"
     ]
    },
    {
     "name": "stdout",
     "output_type": "stream",
     "text": [
      "step 0880: lr 0.009977, train loss 1.3313, val loss 1.3106, ppl 4, time elapsed: 3502.96 seconds\n"
     ]
    },
    {
     "name": "stderr",
     "output_type": "stream",
     "text": [
      " 45%|█████████████████                     | 901/2000 [59:53<1:33:31,  5.11s/it]"
     ]
    },
    {
     "name": "stdout",
     "output_type": "stream",
     "text": [
      "step 0900: lr 0.009934, train loss 0.8228, val loss 0.8280, ppl 2, time elapsed: 3589.67 seconds\n"
     ]
    },
    {
     "name": "stderr",
     "output_type": "stream",
     "text": [
      " 46%|████████████████▌                   | 921/2000 [1:01:16<1:30:51,  5.05s/it]"
     ]
    },
    {
     "name": "stdout",
     "output_type": "stream",
     "text": [
      "step 0920: lr 0.009870, train loss 0.6435, val loss 0.5975, ppl 2, time elapsed: 3672.38 seconds\n"
     ]
    },
    {
     "name": "stderr",
     "output_type": "stream",
     "text": [
      " 47%|████████████████▉                   | 941/2000 [1:02:37<1:28:23,  5.01s/it]"
     ]
    },
    {
     "name": "stdout",
     "output_type": "stream",
     "text": [
      "step 0940: lr 0.009785, train loss 0.6421, val loss 0.5776, ppl 2, time elapsed: 3753.58 seconds\n"
     ]
    },
    {
     "name": "stderr",
     "output_type": "stream",
     "text": [
      " 48%|█████████████████▎                  | 961/2000 [1:03:58<1:26:40,  5.01s/it]"
     ]
    },
    {
     "name": "stdout",
     "output_type": "stream",
     "text": [
      "step 0960: lr 0.009680, train loss 0.4594, val loss 0.5001, ppl 2, time elapsed: 3834.28 seconds\n"
     ]
    },
    {
     "name": "stderr",
     "output_type": "stream",
     "text": [
      " 49%|█████████████████▋                  | 981/2000 [1:05:16<1:23:45,  4.93s/it]"
     ]
    },
    {
     "name": "stdout",
     "output_type": "stream",
     "text": [
      "step 0980: lr 0.009554, train loss 0.4274, val loss 0.4420, ppl 2, time elapsed: 3913.41 seconds\n"
     ]
    },
    {
     "name": "stderr",
     "output_type": "stream",
     "text": [
      " 50%|█████████████████▌                 | 1001/2000 [1:06:36<1:22:17,  4.94s/it]"
     ]
    },
    {
     "name": "stdout",
     "output_type": "stream",
     "text": [
      "step 1000: lr 0.009408, train loss 0.4061, val loss 0.4445, ppl 2, time elapsed: 3992.27 seconds\n"
     ]
    },
    {
     "name": "stderr",
     "output_type": "stream",
     "text": [
      " 51%|█████████████████▊                 | 1021/2000 [1:07:55<1:18:36,  4.82s/it]"
     ]
    },
    {
     "name": "stdout",
     "output_type": "stream",
     "text": [
      "step 1020: lr 0.009243, train loss 0.4176, val loss 0.4059, ppl 2, time elapsed: 4071.75 seconds\n"
     ]
    },
    {
     "name": "stderr",
     "output_type": "stream",
     "text": [
      " 52%|██████████████████▏                | 1041/2000 [1:09:13<1:16:57,  4.81s/it]"
     ]
    },
    {
     "name": "stdout",
     "output_type": "stream",
     "text": [
      "step 1040: lr 0.009060, train loss 0.3306, val loss 0.4137, ppl 2, time elapsed: 4149.59 seconds\n"
     ]
    },
    {
     "name": "stderr",
     "output_type": "stream",
     "text": [
      " 53%|██████████████████▌                | 1061/2000 [1:10:31<1:16:13,  4.87s/it]"
     ]
    },
    {
     "name": "stdout",
     "output_type": "stream",
     "text": [
      "step 1060: lr 0.008859, train loss 0.3650, val loss 0.3841, ppl 1, time elapsed: 4228.28 seconds\n"
     ]
    },
    {
     "name": "stderr",
     "output_type": "stream",
     "text": [
      " 54%|██████████████████▉                | 1081/2000 [1:11:51<1:15:19,  4.92s/it]"
     ]
    },
    {
     "name": "stdout",
     "output_type": "stream",
     "text": [
      "step 1080: lr 0.008642, train loss 0.4144, val loss 0.3499, ppl 1, time elapsed: 4307.39 seconds\n"
     ]
    },
    {
     "name": "stderr",
     "output_type": "stream",
     "text": [
      " 55%|███████████████████▎               | 1101/2000 [1:13:10<1:12:38,  4.85s/it]"
     ]
    },
    {
     "name": "stdout",
     "output_type": "stream",
     "text": [
      "step 1100: lr 0.008408, train loss 0.3688, val loss 0.3205, ppl 1, time elapsed: 4386.80 seconds\n"
     ]
    },
    {
     "name": "stderr",
     "output_type": "stream",
     "text": [
      " 56%|███████████████████▌               | 1121/2000 [1:14:29<1:11:05,  4.85s/it]"
     ]
    },
    {
     "name": "stdout",
     "output_type": "stream",
     "text": [
      "step 1120: lr 0.008161, train loss 0.3306, val loss 0.3494, ppl 1, time elapsed: 4466.28 seconds\n"
     ]
    },
    {
     "name": "stderr",
     "output_type": "stream",
     "text": [
      " 57%|███████████████████▉               | 1141/2000 [1:15:49<1:09:33,  4.86s/it]"
     ]
    },
    {
     "name": "stdout",
     "output_type": "stream",
     "text": [
      "step 1140: lr 0.007899, train loss 0.3250, val loss 0.3651, ppl 1, time elapsed: 4545.81 seconds\n"
     ]
    },
    {
     "name": "stderr",
     "output_type": "stream",
     "text": [
      " 58%|████████████████████▎              | 1161/2000 [1:17:08<1:07:34,  4.83s/it]"
     ]
    },
    {
     "name": "stdout",
     "output_type": "stream",
     "text": [
      "step 1160: lr 0.007625, train loss 0.3484, val loss 0.3419, ppl 1, time elapsed: 4625.03 seconds\n"
     ]
    },
    {
     "name": "stderr",
     "output_type": "stream",
     "text": [
      " 59%|████████████████████▋              | 1181/2000 [1:18:28<1:07:19,  4.93s/it]"
     ]
    },
    {
     "name": "stdout",
     "output_type": "stream",
     "text": [
      "step 1180: lr 0.007340, train loss 0.2816, val loss 0.3390, ppl 1, time elapsed: 4704.74 seconds\n"
     ]
    },
    {
     "name": "stderr",
     "output_type": "stream",
     "text": [
      " 60%|█████████████████████              | 1201/2000 [1:19:47<1:04:25,  4.84s/it]"
     ]
    },
    {
     "name": "stdout",
     "output_type": "stream",
     "text": [
      "step 1200: lr 0.007045, train loss 0.3062, val loss 0.3056, ppl 1, time elapsed: 4784.06 seconds\n"
     ]
    },
    {
     "name": "stderr",
     "output_type": "stream",
     "text": [
      " 61%|█████████████████████▎             | 1221/2000 [1:21:05<1:00:28,  4.66s/it]"
     ]
    },
    {
     "name": "stdout",
     "output_type": "stream",
     "text": [
      "step 1220: lr 0.006741, train loss 0.2940, val loss 0.3054, ppl 1, time elapsed: 4861.63 seconds\n"
     ]
    },
    {
     "name": "stderr",
     "output_type": "stream",
     "text": [
      " 62%|█████████████████████▋             | 1241/2000 [1:22:22<1:00:01,  4.74s/it]"
     ]
    },
    {
     "name": "stdout",
     "output_type": "stream",
     "text": [
      "step 1240: lr 0.006429, train loss 0.2846, val loss 0.2704, ppl 1, time elapsed: 4938.79 seconds\n"
     ]
    },
    {
     "name": "stderr",
     "output_type": "stream",
     "text": [
      " 63%|███████████████████████▎             | 1261/2000 [1:23:40<59:34,  4.84s/it]"
     ]
    },
    {
     "name": "stdout",
     "output_type": "stream",
     "text": [
      "step 1260: lr 0.006112, train loss 0.2711, val loss 0.2784, ppl 1, time elapsed: 5016.33 seconds\n"
     ]
    },
    {
     "name": "stderr",
     "output_type": "stream",
     "text": [
      " 64%|███████████████████████▋             | 1281/2000 [1:24:57<57:20,  4.78s/it]"
     ]
    },
    {
     "name": "stdout",
     "output_type": "stream",
     "text": [
      "step 1280: lr 0.005790, train loss 0.2637, val loss 0.2793, ppl 1, time elapsed: 5093.63 seconds\n"
     ]
    },
    {
     "name": "stderr",
     "output_type": "stream",
     "text": [
      " 65%|████████████████████████             | 1301/2000 [1:26:14<54:53,  4.71s/it]"
     ]
    },
    {
     "name": "stdout",
     "output_type": "stream",
     "text": [
      "step 1300: lr 0.005464, train loss 0.2733, val loss 0.2809, ppl 1, time elapsed: 5171.20 seconds\n"
     ]
    },
    {
     "name": "stderr",
     "output_type": "stream",
     "text": [
      " 66%|████████████████████████▍            | 1321/2000 [1:27:31<53:19,  4.71s/it]"
     ]
    },
    {
     "name": "stdout",
     "output_type": "stream",
     "text": [
      "step 1320: lr 0.005137, train loss 0.2853, val loss 0.2515, ppl 1, time elapsed: 5247.55 seconds\n"
     ]
    },
    {
     "name": "stderr",
     "output_type": "stream",
     "text": [
      " 67%|████████████████████████▊            | 1341/2000 [1:28:46<49:57,  4.55s/it]"
     ]
    },
    {
     "name": "stdout",
     "output_type": "stream",
     "text": [
      "step 1340: lr 0.004810, train loss 0.2529, val loss 0.2562, ppl 1, time elapsed: 5322.99 seconds\n"
     ]
    },
    {
     "name": "stderr",
     "output_type": "stream",
     "text": [
      " 68%|█████████████████████████▏           | 1361/2000 [1:30:02<50:15,  4.72s/it]"
     ]
    },
    {
     "name": "stdout",
     "output_type": "stream",
     "text": [
      "step 1360: lr 0.004483, train loss 0.2401, val loss 0.2464, ppl 1, time elapsed: 5398.81 seconds\n"
     ]
    },
    {
     "name": "stderr",
     "output_type": "stream",
     "text": [
      " 69%|█████████████████████████▌           | 1381/2000 [1:31:17<47:11,  4.57s/it]"
     ]
    },
    {
     "name": "stdout",
     "output_type": "stream",
     "text": [
      "step 1380: lr 0.004159, train loss 0.2309, val loss 0.2547, ppl 1, time elapsed: 5473.54 seconds\n"
     ]
    },
    {
     "name": "stderr",
     "output_type": "stream",
     "text": [
      " 70%|█████████████████████████▉           | 1401/2000 [1:32:33<47:28,  4.75s/it]"
     ]
    },
    {
     "name": "stdout",
     "output_type": "stream",
     "text": [
      "step 1400: lr 0.003839, train loss 0.2225, val loss 0.2443, ppl 1, time elapsed: 5549.69 seconds\n"
     ]
    },
    {
     "name": "stderr",
     "output_type": "stream",
     "text": [
      " 71%|██████████████████████████▎          | 1421/2000 [1:33:49<44:21,  4.60s/it]"
     ]
    },
    {
     "name": "stdout",
     "output_type": "stream",
     "text": [
      "step 1420: lr 0.003525, train loss 0.2216, val loss 0.2454, ppl 1, time elapsed: 5625.70 seconds\n"
     ]
    },
    {
     "name": "stderr",
     "output_type": "stream",
     "text": [
      " 72%|██████████████████████████▋          | 1441/2000 [1:35:04<43:55,  4.71s/it]"
     ]
    },
    {
     "name": "stdout",
     "output_type": "stream",
     "text": [
      "step 1440: lr 0.003216, train loss 0.2386, val loss 0.2336, ppl 1, time elapsed: 5700.82 seconds\n"
     ]
    },
    {
     "name": "stderr",
     "output_type": "stream",
     "text": [
      " 73%|███████████████████████████          | 1461/2000 [1:36:21<42:40,  4.75s/it]"
     ]
    },
    {
     "name": "stdout",
     "output_type": "stream",
     "text": [
      "step 1460: lr 0.002916, train loss 0.2174, val loss 0.2201, ppl 1, time elapsed: 5777.33 seconds\n"
     ]
    },
    {
     "name": "stderr",
     "output_type": "stream",
     "text": [
      " 74%|███████████████████████████▍         | 1481/2000 [1:37:36<39:41,  4.59s/it]"
     ]
    },
    {
     "name": "stdout",
     "output_type": "stream",
     "text": [
      "step 1480: lr 0.002626, train loss 0.2147, val loss 0.2381, ppl 1, time elapsed: 5852.67 seconds\n"
     ]
    },
    {
     "name": "stderr",
     "output_type": "stream",
     "text": [
      " 75%|███████████████████████████▊         | 1501/2000 [1:38:51<39:13,  4.72s/it]"
     ]
    },
    {
     "name": "stdout",
     "output_type": "stream",
     "text": [
      "step 1500: lr 0.002345, train loss 0.1944, val loss 0.2120, ppl 1, time elapsed: 5927.62 seconds\n"
     ]
    },
    {
     "name": "stderr",
     "output_type": "stream",
     "text": [
      " 76%|████████████████████████████▏        | 1521/2000 [1:40:07<37:45,  4.73s/it]"
     ]
    },
    {
     "name": "stdout",
     "output_type": "stream",
     "text": [
      "step 1520: lr 0.002077, train loss 0.1935, val loss 0.1890, ppl 1, time elapsed: 6003.46 seconds\n"
     ]
    },
    {
     "name": "stderr",
     "output_type": "stream",
     "text": [
      " 77%|████████████████████████████▌        | 1541/2000 [1:41:22<35:14,  4.61s/it]"
     ]
    },
    {
     "name": "stdout",
     "output_type": "stream",
     "text": [
      "step 1540: lr 0.001822, train loss 0.1981, val loss 0.2168, ppl 1, time elapsed: 6079.17 seconds\n"
     ]
    },
    {
     "name": "stderr",
     "output_type": "stream",
     "text": [
      " 78%|████████████████████████████▉        | 1561/2000 [1:42:39<34:48,  4.76s/it]"
     ]
    },
    {
     "name": "stdout",
     "output_type": "stream",
     "text": [
      "step 1560: lr 0.001581, train loss 0.1926, val loss 0.1876, ppl 1, time elapsed: 6155.27 seconds\n"
     ]
    },
    {
     "name": "stderr",
     "output_type": "stream",
     "text": [
      " 79%|█████████████████████████████▏       | 1581/2000 [1:43:55<33:30,  4.80s/it]"
     ]
    },
    {
     "name": "stdout",
     "output_type": "stream",
     "text": [
      "step 1580: lr 0.001355, train loss 0.1958, val loss 0.2191, ppl 1, time elapsed: 6231.57 seconds\n"
     ]
    },
    {
     "name": "stderr",
     "output_type": "stream",
     "text": [
      " 80%|█████████████████████████████▌       | 1601/2000 [1:45:11<31:39,  4.76s/it]"
     ]
    },
    {
     "name": "stdout",
     "output_type": "stream",
     "text": [
      "step 1600: lr 0.001145, train loss 0.1727, val loss 0.1757, ppl 1, time elapsed: 6308.08 seconds\n"
     ]
    },
    {
     "name": "stderr",
     "output_type": "stream",
     "text": [
      " 81%|█████████████████████████████▉       | 1621/2000 [1:46:27<29:17,  4.64s/it]"
     ]
    },
    {
     "name": "stdout",
     "output_type": "stream",
     "text": [
      "step 1620: lr 0.000953, train loss 0.1817, val loss 0.1715, ppl 1, time elapsed: 6383.61 seconds\n"
     ]
    },
    {
     "name": "stderr",
     "output_type": "stream",
     "text": [
      " 82%|██████████████████████████████▎      | 1641/2000 [1:47:41<27:51,  4.66s/it]"
     ]
    },
    {
     "name": "stdout",
     "output_type": "stream",
     "text": [
      "step 1640: lr 0.000778, train loss 0.1873, val loss 0.1891, ppl 1, time elapsed: 6458.00 seconds\n"
     ]
    },
    {
     "name": "stderr",
     "output_type": "stream",
     "text": [
      " 83%|██████████████████████████████▋      | 1661/2000 [1:48:56<26:31,  4.70s/it]"
     ]
    },
    {
     "name": "stdout",
     "output_type": "stream",
     "text": [
      "step 1660: lr 0.000622, train loss 0.1927, val loss 0.1905, ppl 1, time elapsed: 6533.00 seconds\n"
     ]
    },
    {
     "name": "stderr",
     "output_type": "stream",
     "text": [
      " 84%|███████████████████████████████      | 1681/2000 [1:50:11<24:29,  4.61s/it]"
     ]
    },
    {
     "name": "stdout",
     "output_type": "stream",
     "text": [
      "step 1680: lr 0.000485, train loss 0.1743, val loss 0.1802, ppl 1, time elapsed: 6608.29 seconds\n"
     ]
    },
    {
     "name": "stderr",
     "output_type": "stream",
     "text": [
      " 85%|███████████████████████████████▍     | 1701/2000 [1:51:26<22:42,  4.56s/it]"
     ]
    },
    {
     "name": "stdout",
     "output_type": "stream",
     "text": [
      "step 1700: lr 0.000369, train loss 0.1910, val loss 0.1738, ppl 1, time elapsed: 6682.58 seconds\n"
     ]
    },
    {
     "name": "stderr",
     "output_type": "stream",
     "text": [
      " 86%|███████████████████████████████▊     | 1721/2000 [1:52:40<21:39,  4.66s/it]"
     ]
    },
    {
     "name": "stdout",
     "output_type": "stream",
     "text": [
      "step 1720: lr 0.000272, train loss 0.1708, val loss 0.1579, ppl 1, time elapsed: 6757.27 seconds\n"
     ]
    },
    {
     "name": "stderr",
     "output_type": "stream",
     "text": [
      " 87%|████████████████████████████████▏    | 1741/2000 [1:53:55<20:11,  4.68s/it]"
     ]
    },
    {
     "name": "stdout",
     "output_type": "stream",
     "text": [
      "step 1740: lr 0.000197, train loss 0.1796, val loss 0.1921, ppl 1, time elapsed: 6832.20 seconds\n"
     ]
    },
    {
     "name": "stderr",
     "output_type": "stream",
     "text": [
      " 88%|████████████████████████████████▌    | 1761/2000 [1:55:11<18:41,  4.69s/it]"
     ]
    },
    {
     "name": "stdout",
     "output_type": "stream",
     "text": [
      "step 1760: lr 0.000143, train loss 0.1852, val loss 0.1642, ppl 1, time elapsed: 6908.10 seconds\n"
     ]
    },
    {
     "name": "stderr",
     "output_type": "stream",
     "text": [
      " 89%|████████████████████████████████▉    | 1781/2000 [1:56:27<17:16,  4.73s/it]"
     ]
    },
    {
     "name": "stdout",
     "output_type": "stream",
     "text": [
      "step 1780: lr 0.000111, train loss 0.1755, val loss 0.1973, ppl 1, time elapsed: 6984.11 seconds\n"
     ]
    },
    {
     "name": "stderr",
     "output_type": "stream",
     "text": [
      " 90%|█████████████████████████████████▎   | 1801/2000 [1:57:42<15:07,  4.56s/it]"
     ]
    },
    {
     "name": "stdout",
     "output_type": "stream",
     "text": [
      "step 1800: lr 0.000100, train loss 0.1576, val loss 0.1843, ppl 1, time elapsed: 7059.55 seconds\n"
     ]
    },
    {
     "name": "stderr",
     "output_type": "stream",
     "text": [
      " 91%|█████████████████████████████████▋   | 1821/2000 [1:58:56<13:38,  4.57s/it]"
     ]
    },
    {
     "name": "stdout",
     "output_type": "stream",
     "text": [
      "step 1820: lr 0.000100, train loss 0.1725, val loss 0.1628, ppl 1, time elapsed: 7133.34 seconds\n"
     ]
    },
    {
     "name": "stderr",
     "output_type": "stream",
     "text": [
      " 92%|██████████████████████████████████   | 1841/2000 [2:00:10<12:05,  4.56s/it]"
     ]
    },
    {
     "name": "stdout",
     "output_type": "stream",
     "text": [
      "step 1840: lr 0.000100, train loss 0.1964, val loss 0.1599, ppl 1, time elapsed: 7207.33 seconds\n"
     ]
    },
    {
     "name": "stderr",
     "output_type": "stream",
     "text": [
      " 93%|██████████████████████████████████▍  | 1861/2000 [2:01:24<10:32,  4.55s/it]"
     ]
    },
    {
     "name": "stdout",
     "output_type": "stream",
     "text": [
      "step 1860: lr 0.000100, train loss 0.1724, val loss 0.1884, ppl 1, time elapsed: 7281.42 seconds\n"
     ]
    },
    {
     "name": "stderr",
     "output_type": "stream",
     "text": [
      " 94%|██████████████████████████████████▊  | 1881/2000 [2:02:39<08:52,  4.47s/it]"
     ]
    },
    {
     "name": "stdout",
     "output_type": "stream",
     "text": [
      "step 1880: lr 0.000100, train loss 0.1700, val loss 0.1739, ppl 1, time elapsed: 7356.40 seconds\n"
     ]
    },
    {
     "name": "stderr",
     "output_type": "stream",
     "text": [
      " 95%|███████████████████████████████████▏ | 1901/2000 [2:03:53<07:37,  4.62s/it]"
     ]
    },
    {
     "name": "stdout",
     "output_type": "stream",
     "text": [
      "step 1900: lr 0.000100, train loss 0.1633, val loss 0.1858, ppl 1, time elapsed: 7430.31 seconds\n"
     ]
    },
    {
     "name": "stderr",
     "output_type": "stream",
     "text": [
      " 96%|███████████████████████████████████▌ | 1921/2000 [2:05:08<06:08,  4.67s/it]"
     ]
    },
    {
     "name": "stdout",
     "output_type": "stream",
     "text": [
      "step 1920: lr 0.000100, train loss 0.1800, val loss 0.1664, ppl 1, time elapsed: 7504.52 seconds\n"
     ]
    },
    {
     "name": "stderr",
     "output_type": "stream",
     "text": [
      " 97%|███████████████████████████████████▉ | 1941/2000 [2:06:23<04:34,  4.65s/it]"
     ]
    },
    {
     "name": "stdout",
     "output_type": "stream",
     "text": [
      "step 1940: lr 0.000100, train loss 0.1832, val loss 0.1618, ppl 1, time elapsed: 7579.80 seconds\n"
     ]
    },
    {
     "name": "stderr",
     "output_type": "stream",
     "text": [
      " 98%|████████████████████████████████████▎| 1961/2000 [2:07:38<02:59,  4.60s/it]"
     ]
    },
    {
     "name": "stdout",
     "output_type": "stream",
     "text": [
      "step 1960: lr 0.000100, train loss 0.1867, val loss 0.1691, ppl 1, time elapsed: 7654.42 seconds\n"
     ]
    },
    {
     "name": "stderr",
     "output_type": "stream",
     "text": [
      " 99%|████████████████████████████████████▋| 1981/2000 [2:08:52<01:28,  4.66s/it]"
     ]
    },
    {
     "name": "stdout",
     "output_type": "stream",
     "text": [
      "step 1980: lr 0.000100, train loss 0.1774, val loss 0.1733, ppl 1, time elapsed: 7729.36 seconds\n"
     ]
    },
    {
     "name": "stderr",
     "output_type": "stream",
     "text": [
      "100%|█████████████████████████████████████| 2000/2000 [2:10:04<00:00,  3.90s/it]"
     ]
    },
    {
     "name": "stdout",
     "output_type": "stream",
     "text": [
      "step 1999: lr 0.000100, train loss 0.1828, val loss 0.1796, ppl 1, time elapsed: 7800.74 seconds\n"
     ]
    },
    {
     "name": "stderr",
     "output_type": "stream",
     "text": [
      "\n"
     ]
    }
   ],
   "source": [
    "model, optimizer, log_data = train(\n",
    "    model, \n",
    "    tokenizer, \n",
    "    cfg, \n",
    "    optimizer,\n",
    "    scheduler,\n",
    "    tcfg, \n",
    "    train_data_loader,\n",
    "    test_data_loader,\n",
    "    #log_data: list = None, \n",
    "    #detect_anomoly = False # use if you're getting crazy errors about a the gradient being broken\n",
    ")"
   ]
  },
  {
   "cell_type": "markdown",
   "id": "22cc1adb-a1fd-4f0e-8666-26b2a99a0e54",
   "metadata": {},
   "source": [
    "# inference test before you decide to save it"
   ]
  },
  {
   "cell_type": "code",
   "execution_count": 6,
   "id": "565eeefb-ce04-44c5-a0b7-81a1a75786c6",
   "metadata": {},
   "outputs": [
    {
     "name": "stdout",
     "output_type": "stream",
     "text": [
      "Once upon a time His gria's bear cao bye cat an an o ain bed ins al alve an high ne e wasb.\"\n",
      ".\n",
      "\"Myin.\"Sogbbit, Sueeip ho modus's toat. walk waspushing an and a to.ify an up o own frog, with birds....s Suey's anutedyy became, and it to inge, Sue.\n",
      "One.\n",
      "? to oue of an and it wass ha mor startedying to togey. Sue, Spot! to fo a by walkaa was. insideyed at an an an an anke a arod! tolwre e alreap fow!? By wo co.\n",
      "\" an and toys, uning dog to?ist are to in upp Have. that his o.s to. Ak. an and Mom's anarat o ow al. Kitty's an an and ideas an bua.yed. Max an ind eatin foing kids to to.ped oI be with bluey thingss donn't, an in ore, love playing to mw be. many fotionub ns than an and warm to quess an an Gyo be as from an and ne e givenes o aroed animals's to pa. Mia aedffila to playingw soar that his lodyy.Mom wasing always.Mom toie. Sue wantgs.inseo saw to toss. many guesMom to thingsow into give o ow haveth chalingly that, to MAs by by oal. walk deorcalus heeded an an and it had an uns. it so an lo spty an and always ba.? Fyyo floborur.! me beketing oytt. an an and Lily's to fromp o sot bro. wheoh oveo by Max an an and go and maaughtty to daw by to ca.\n",
      "\"Iy!.\".\" Spot made Tim an an an and bro al, an an an angike ind do do's gl po fe\n"
     ]
    }
   ],
   "source": [
    "from inference import generate\n",
    "prompt = \"Once upon a time\"\n",
    "model.eval()\n",
    "output = generate(\n",
    "    prompt, \n",
    "    model, \n",
    "    tokenizer,\n",
    "    #max_gen_len = 512,\n",
    "    temperature = 0.9,\n",
    "    #memory_saver_div = 8,\n",
    "    #top_p = 0.9,\n",
    "    #top_k = 32,\n",
    ")\n",
    "model.train()\n",
    "print(output)"
   ]
  },
  {
   "cell_type": "markdown",
   "id": "70cf4ecb-0313-43a2-a35b-1f6c6e348427",
   "metadata": {},
   "source": [
    "# Saving your final model\n",
    "if `tcfg.checkpoint_interval != None` then checkpoints have already been saved\n",
    "\n",
    "you DO still need to do this even if you had been saving checkpoints; the final state has not yet been saved"
   ]
  },
  {
   "cell_type": "code",
   "execution_count": 7,
   "id": "d1c31388-e8b5-48c6-b057-e185586b0671",
   "metadata": {},
   "outputs": [],
   "source": [
    "from tools import save_model\n",
    "save_model(model, cfg, tcfg, log_data)"
   ]
  },
  {
   "cell_type": "code",
   "execution_count": null,
   "id": "303e3a1e-85cb-4fe6-a85b-1d3ec773eb0d",
   "metadata": {},
   "outputs": [],
   "source": []
  }
 ],
 "metadata": {
  "kernelspec": {
   "display_name": "Python 3 (ipykernel)",
   "language": "python",
   "name": "python3"
  },
  "language_info": {
   "codemirror_mode": {
    "name": "ipython",
    "version": 3
   },
   "file_extension": ".py",
   "mimetype": "text/x-python",
   "name": "python",
   "nbconvert_exporter": "python",
   "pygments_lexer": "ipython3",
   "version": "3.10.12"
  }
 },
 "nbformat": 4,
 "nbformat_minor": 5
}
